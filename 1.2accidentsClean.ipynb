{
 "cells": [
  {
   "cell_type": "markdown",
   "metadata": {},
   "source": [
    "# Accidents data\n",
    "\n",
    "This is the cleaned accidents data for 2001-2017. The data will not be filtered in any way before merging with the persons data."
   ]
  },
  {
   "cell_type": "code",
   "execution_count": 1,
   "metadata": {},
   "outputs": [],
   "source": [
    "import pandas as pd\n",
    "from dbfread import DBF"
   ]
  },
  {
   "cell_type": "markdown",
   "metadata": {},
   "source": [
    "## Functions for creating the master accidents dataframe"
   ]
  },
  {
   "cell_type": "code",
   "execution_count": 2,
   "metadata": {},
   "outputs": [],
   "source": [
    "# Create a df from a given file of DBF data\n",
    "def dfmaker(data):\n",
    "    df = pd.DataFrame(iter(data))\n",
    "    return df\n",
    "\n",
    "\"\"\"\n",
    "Function to create fully merged data set\n",
    "I previously checked the size of each individual dataframe to make sure that the merged data frame included all\n",
    "rows from each individual dataframe and received the correct result.\n",
    "\"\"\"\n",
    "def fullmerge(sort):\n",
    "    # Create an empty list that will store each individual data frame so they can be concatenated later\n",
    "    dfs = []\n",
    "    # Create individual dfs from the years 2001-2007 because these years need columns renamed\n",
    "    for i in range(2001,2008):\n",
    "        # Get the data\n",
    "        temp_data = DBF('data/nhtsa/year' + str(i) + '/accident.dbf')\n",
    "        # Make a df\n",
    "        temp_df = dfmaker(temp_data)\n",
    "        # Rename latitude and longitude columns to match with format for data from later years\n",
    "        temp_df.rename(columns={'latitude':'LATITUDE','longitud':'LONGITUD'}, inplace=True)\n",
    "        # Add to the list of all dfs\n",
    "        dfs.append(temp_df)\n",
    "    # Same process but no renaming of latitude and longitude columns since they are already properly formatted\n",
    "    for i in range(2008,2015):\n",
    "        # Get the data\n",
    "        temp_data = DBF('data/nhtsa/year' + str(i) + '/accident.dbf')\n",
    "        # Make a df\n",
    "        temp_df = dfmaker(temp_data)\n",
    "        # Add to the list of all dfs\n",
    "        dfs.append(temp_df)\n",
    "    # Create individual dfs from the years 2015-2017 because the data for those years is in csv format\n",
    "    for i in range(2015,2018):\n",
    "        # Create a temporary df\n",
    "        temp_df = pd.read_csv('data/nhtsa/year' + str(i) + '/accident.csv')\n",
    "        # Rename latitude and longitude columns\n",
    "        temp_df.rename(columns={'latitude':'LATITUDE','longitud':'LONGITUD'})\n",
    "        # Add to the list of all dfs\n",
    "        dfs.append(temp_df)\n",
    "    # Concatenate the dfs together\n",
    "    master_df = pd.concat(dfs)\n",
    "    return master_df"
   ]
  },
  {
   "cell_type": "code",
   "execution_count": 3,
   "metadata": {
    "scrolled": true
   },
   "outputs": [
    {
     "name": "stderr",
     "output_type": "stream",
     "text": [
      "/nfshome/shb395/.conda/envs/myEnvp3/lib/python2.7/site-packages/ipykernel_launcher.py:41: FutureWarning: Sorting because non-concatenation axis is not aligned. A future version\n",
      "of pandas will change to not sort by default.\n",
      "\n",
      "To accept the future behavior, pass 'sort=False'.\n",
      "\n",
      "To retain the current behavior and silence the warning, pass 'sort=True'.\n",
      "\n"
     ]
    },
    {
     "data": {
      "text/plain": [
       "(586603, 65)"
      ]
     },
     "execution_count": 3,
     "metadata": {},
     "output_type": "execute_result"
    }
   ],
   "source": [
    "# Create the master dataframe of all accidents in the US\n",
    "acc_df = fullmerge(sort=False)\n",
    "acc_df.shape"
   ]
  },
  {
   "cell_type": "code",
   "execution_count": 11,
   "metadata": {},
   "outputs": [],
   "source": [
    "# Uncomment if you need to remake this csv for some reason\n",
    "# acc_df.to_csv('data/cleanData/accidentsClean.csv', encoding='utf-8', index=False)"
   ]
  },
  {
   "cell_type": "code",
   "execution_count": null,
   "metadata": {},
   "outputs": [],
   "source": []
  }
 ],
 "metadata": {
  "kernelspec": {
   "display_name": "ADS",
   "language": "python",
   "name": "ads"
  },
  "language_info": {
   "codemirror_mode": {
    "name": "ipython",
    "version": 3
   },
   "file_extension": ".py",
   "mimetype": "text/x-python",
   "name": "python",
   "nbconvert_exporter": "python",
   "pygments_lexer": "ipython3",
   "version": "3.5.0"
  }
 },
 "nbformat": 4,
 "nbformat_minor": 2
}
