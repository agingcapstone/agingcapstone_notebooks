{
 "cells": [
  {
   "cell_type": "markdown",
   "metadata": {},
   "source": [
    "# Persons data\n",
    "\n",
    "This is the cleaned persons data for 2001-2017. The data will not be filtered in any way before merging with the accidents data but will be aggregated on the accident level."
   ]
  },
  {
   "cell_type": "code",
   "execution_count": 1,
   "metadata": {},
   "outputs": [],
   "source": [
    "import pandas as pd\n",
    "from dbfread import DBF"
   ]
  },
  {
   "cell_type": "code",
   "execution_count": 2,
   "metadata": {},
   "outputs": [],
   "source": [
    "def importdf(i):\n",
    "    try:\n",
    "        raw_dbf_data = DBF('data/nhtsa/year' + str(i) + '/person.dbf')\n",
    "        i = pd.DataFrame(iter(raw_dbf_data))\n",
    "    except: \n",
    "        i = pd.read_csv('data/nhtsa/year' + str(i) + '/person.csv')\n",
    "    return i"
   ]
  },
  {
   "cell_type": "code",
   "execution_count": 3,
   "metadata": {},
   "outputs": [],
   "source": [
    "\"\"\"\n",
    "Create each individual dataframe and add a YEAR column to each one since the person DBF files do not include\n",
    "a YEAR variable in the raw format.\n",
    "\"\"\"\n",
    "p2001 = importdf(2001)\n",
    "p2001['YEAR'] = 2001\n",
    "p2001.rename(columns = {\"P_CF1\":\"P_SF1\",\"P_CF2\":\"P_SF2\",\"P_CF3\":\"P_SF3\",\"N_MOT_NO\":\"STR_VEH\"}, inplace=True)\n",
    "p2002 = importdf(2002)\n",
    "p2002['YEAR'] = 2002\n",
    "p2002.rename(columns = {\"P_CF1\":\"P_SF1\",\"P_CF2\":\"P_SF2\",\"P_CF3\":\"P_SF3\",\"N_MOT_NO\":\"STR_VEH\"}, inplace=True)\n",
    "p2003 = importdf(2003)\n",
    "p2003['YEAR'] = 2003\n",
    "p2003.rename(columns = {\"P_CF1\":\"P_SF1\",\"P_CF2\":\"P_SF2\",\"P_CF3\":\"P_SF3\",\"N_MOT_NO\":\"STR_VEH\"}, inplace=True)\n",
    "p2004 = importdf(2004)\n",
    "p2004['YEAR'] = 2004\n",
    "p2004.rename(columns = {\"P_CF1\":\"P_SF1\",\"P_CF2\":\"P_SF2\",\"P_CF3\":\"P_SF3\",\"N_MOT_NO\":\"STR_VEH\"}, inplace=True)\n",
    "p2005 = importdf(2005)\n",
    "p2005['YEAR'] = 2005\n",
    "p2005.rename(columns = {\"P_CF1\":\"P_SF1\",\"P_CF2\":\"P_SF2\",\"P_CF3\":\"P_SF3\",\"N_MOT_NO\":\"STR_VEH\"}, inplace=True)\n",
    "p2006 = importdf(2006)\n",
    "p2006['YEAR'] = 2006\n",
    "p2006.rename(columns = {\"P_CF1\":\"P_SF1\",\"P_CF2\":\"P_SF2\",\"P_CF3\":\"P_SF3\",\"N_MOT_NO\":\"STR_VEH\"}, inplace=True)\n",
    "p2007 = importdf(2007)\n",
    "p2007['YEAR'] = 2007\n",
    "p2007.rename(columns = {\"P_CF1\":\"P_SF1\",\"P_CF2\":\"P_SF2\",\"P_CF3\":\"P_SF3\",\"N_MOT_NO\":\"STR_VEH\"}, inplace=True)\n",
    "p2008 = importdf(2008)\n",
    "p2008['YEAR'] = 2008\n",
    "p2008.rename(columns = {\"P_CF1\":\"P_SF1\",\"P_CF2\":\"P_SF2\",\"P_CF3\":\"P_SF3\",\"N_MOT_NO\":\"STR_VEH\"}, inplace=True)\n",
    "p2009 = importdf(2009)\n",
    "p2009['YEAR'] = 2009\n",
    "p2009.rename(columns = {\"P_CF1\":\"P_SF1\",\"P_CF2\":\"P_SF2\",\"P_CF3\":\"P_SF3\",\"N_MOT_NO\":\"STR_VEH\"}, inplace=True)\n",
    "p2010 = importdf(2010)\n",
    "p2010['YEAR'] = 2010\n",
    "p2010.rename(columns = {\"N_MOT_NO\":\"STR_VEH\"}, inplace=True)\n",
    "p2011 = importdf(2011)\n",
    "p2011['YEAR'] = 2011\n",
    "p2012 = importdf(2012)\n",
    "p2012['YEAR'] = 2012\n",
    "p2013 = importdf(2013)\n",
    "p2013['YEAR'] = 2013\n",
    "p2014 = importdf(2014)\n",
    "p2014['YEAR'] = 2014\n",
    "p2015 = importdf(2015)\n",
    "p2015['YEAR'] = 2015\n",
    "p2016 = importdf(2016)\n",
    "p2016['YEAR'] = 2016\n",
    "p2017 = importdf(2017)\n",
    "p2017['YEAR'] = 2017"
   ]
  },
  {
   "cell_type": "code",
   "execution_count": 4,
   "metadata": {},
   "outputs": [],
   "source": [
    "pieces = {\"2001\":p2001, \"2002\":p2002, \"2003\":p2003, \"2004\":p2004, \"2005\":p2005, \"2006\":p2006,\n",
    "          \"2007\":p2007, \"2008\":p2008, \"2009\":p2009, \"2010\":p2010, \"2011\":p2011, \"2012\":p2012,\n",
    "          \"2013\":p2013, \"2014\":p2014, \"2015\":p2015, \"2016\":p2016, \"2017\":p2017}"
   ]
  },
  {
   "cell_type": "code",
   "execution_count": 5,
   "metadata": {},
   "outputs": [
    {
     "name": "stderr",
     "output_type": "stream",
     "text": [
      "/nfshome/ab8131/.conda/envs/myEnv/lib/python2.7/site-packages/ipykernel_launcher.py:1: FutureWarning: Sorting because non-concatenation axis is not aligned. A future version\n",
      "of pandas will change to not sort by default.\n",
      "\n",
      "To accept the future behavior, pass 'sort=False'.\n",
      "\n",
      "To retain the current behavior and silence the warning, pass 'sort=True'.\n",
      "\n",
      "  \"\"\"Entry point for launching an IPython kernel.\n"
     ]
    },
    {
     "data": {
      "text/plain": [
       "(1486277, 97)"
      ]
     },
     "execution_count": 5,
     "metadata": {},
     "output_type": "execute_result"
    }
   ],
   "source": [
    "per_df = pd.concat(pieces)\n",
    "per_df.shape"
   ]
  },
  {
   "cell_type": "code",
   "execution_count": 12,
   "metadata": {},
   "outputs": [],
   "source": [
    "per_grouped = per_df.groupby(['ST_CASE','YEAR'])"
   ]
  },
  {
   "cell_type": "code",
   "execution_count": 13,
   "metadata": {},
   "outputs": [
    {
     "data": {
      "text/plain": [
       "(586603, 97)"
      ]
     },
     "execution_count": 13,
     "metadata": {},
     "output_type": "execute_result"
    }
   ],
   "source": [
    "per_grouped_final = pd.DataFrame(per_grouped.first())\n",
    "per_grouped_final.reset_index(inplace=True)\n",
    "per_grouped_final.shape"
   ]
  },
  {
   "cell_type": "code",
   "execution_count": 6,
   "metadata": {},
   "outputs": [],
   "source": [
    "# Uncomment if you need to remake this csv for some reason\n",
    "# per_df.to_csv('data/cleanData/personsClean.csv', encoding='utf-8', index=False)"
   ]
  },
  {
   "cell_type": "code",
   "execution_count": null,
   "metadata": {},
   "outputs": [],
   "source": []
  }
 ],
 "metadata": {
  "kernelspec": {
   "display_name": "myEnv",
   "language": "python",
   "name": "myenv"
  },
  "language_info": {
   "codemirror_mode": {
    "name": "ipython",
    "version": 2
   },
   "file_extension": ".py",
   "mimetype": "text/x-python",
   "name": "python",
   "nbconvert_exporter": "python",
   "pygments_lexer": "ipython2",
   "version": "2.7.15"
  }
 },
 "nbformat": 4,
 "nbformat_minor": 2
}
